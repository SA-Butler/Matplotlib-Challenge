{
 "cells": [
  {
   "cell_type": "markdown",
   "metadata": {},
   "source": [
    "# Pymaceuticals Inc.\n",
    "---\n",
    "\n",
    "### Analysis\n",
    "\n",
    "- Add your analysis here.\n",
    " "
   ]
  },
  {
   "cell_type": "markdown",
   "metadata": {},
   "source": [
    "Three observations from the data\n",
    "\n",
    "1. Capomulin and Ramicane have lower Average Tumor volume evidenced by the box plots. \n",
    "2. The Capomulin appears to show a reduction in Tumor volume between 20 and 40 days. However, this is only for one mouse.\n",
    "3. The regression analysis shows a reasonably linear correlation between Tumor Volume and Weight.\n"
   ]
  },
  {
   "cell_type": "code",
   "execution_count": null,
   "metadata": {},
   "outputs": [],
   "source": [
    "# Dependencies and Setup\n",
    "import matplotlib.pyplot as plt\n",
    "import pandas as pd\n",
    "import scipy.stats as st\n",
    "import numpy as np\n",
    "\n",
    "\n",
    "# Study data files\n",
    "mouse_metadata_path = \"data/Mouse_metadata.csv\"\n",
    "study_results_path = \"data/Study_results.csv\"\n",
    "\n",
    "# Read the mouse data and the study results\n",
    "mouse_metadata = pd.read_csv(mouse_metadata_path)\n",
    "study_results = pd.read_csv(study_results_path)\n",
    "\n",
    "# Combine the data into a single dataset\n",
    "        #mouse_metadata.head\n",
    "        #study_results.head \n",
    "        #Mouse ID is common to both files\n",
    "\n",
    "combined_df = pd.merge(mouse_metadata, study_results, on=\"Mouse ID\")\n",
    "\n",
    "# Display the data table for preview\n",
    "combined_df.head\n"
   ]
  },
  {
   "cell_type": "code",
   "execution_count": null,
   "metadata": {},
   "outputs": [],
   "source": [
    "# Checking the number of mice.\n",
    "combined_df['Mouse ID'].value_counts()"
   ]
  },
  {
   "cell_type": "code",
   "execution_count": null,
   "metadata": {},
   "outputs": [],
   "source": [
    "# Getting the duplicate mice by ID number that shows up for Mouse ID and Timepoint. \n",
    "duplicateRows = combined_df[combined_df.duplicated(['Mouse ID', 'Timepoint'])]\n",
    "duplicateRows"
   ]
  },
  {
   "cell_type": "code",
   "execution_count": null,
   "metadata": {},
   "outputs": [],
   "source": [
    "# Optional: Get all the data for the duplicate mouse ID. \n"
   ]
  },
  {
   "cell_type": "code",
   "execution_count": null,
   "metadata": {},
   "outputs": [],
   "source": [
    "# Create a clean DataFrame by dropping the duplicate mouse by its ID.\n",
    "clnd_df = combined_df[combined_df['Mouse ID'] != 'g989']"
   ]
  },
  {
   "cell_type": "code",
   "execution_count": null,
   "metadata": {},
   "outputs": [],
   "source": [
    "# Checking the number of mice in the clean DataFrame.\n",
    "clnd_df['Mouse ID'].value_counts()"
   ]
  },
  {
   "cell_type": "markdown",
   "metadata": {},
   "source": [
    "## Summary Statistics"
   ]
  },
  {
   "cell_type": "code",
   "execution_count": null,
   "metadata": {},
   "outputs": [],
   "source": [
    "# Generate a summary statistics table of mean, median, variance, standard deviation, and SEM of the tumor volume for each regimen\n",
    "\n",
    "\n",
    "tumor_data = clnd_df.groupby(['Drug Regimen'])\n",
    "# This method is the most straighforward, creating multiple series and putting them all together at the end.\n",
    "tumor_mean = tumor_data['Tumor Volume (mm3)'].mean()\n",
    "tumor_med = tumor_data['Tumor Volume (mm3)'].median()\n",
    "tumor_var = tumor_data['Tumor Volume (mm3)'].var()\n",
    "tumor_std = tumor_data['Tumor Volume (mm3)'].std()\n",
    "tumor_sem = tumor_data['Tumor Volume (mm3)'].sem()\n",
    "\n",
    "tumordata_df = pd.DataFrame({\n",
    "                        \"Mean\": tumor_mean,\n",
    "                        \"Median\" : tumor_med,\n",
    "                        \"Variance\" : tumor_var,\n",
    "                        \"Standard Deviation\" : tumor_std,\n",
    "                        \"SEM\" : tumor_sem\n",
    "                        })\n",
    "tumordata_df\n"
   ]
  },
  {
   "cell_type": "code",
   "execution_count": null,
   "metadata": {},
   "outputs": [],
   "source": [
    "# Generate a summary statistics table of mean, median, variance, standard deviation, \n",
    "# and SEM of the tumor volume for each regimen\n",
    "# Using the aggregation method, produce the same summary statistics in a single line.\n",
    "\n",
    "statstab2 = clnd_df.groupby(['Drug Regimen'])['Tumor Volume (mm3)'].agg(['mean', 'median','var', 'std', 'sem'])\n",
    "statstab2\n",
    "\n"
   ]
  },
  {
   "cell_type": "markdown",
   "metadata": {},
   "source": [
    "## Bar and Pie Charts"
   ]
  },
  {
   "cell_type": "code",
   "execution_count": null,
   "metadata": {},
   "outputs": [],
   "source": [
    "# Generate a bar plot showing the total number of timepoints for all mice tested for each drug regimen using Pandas.\n",
    "\n",
    "intervalstep = clnd_df.groupby(['Drug Regimen'])['Timepoint'].count()\n",
    "intervalstep.sort_values(ascending=False).plot.bar()  \n",
    "plt.ylabel('Number of Timepoints', size=8) # define y label\n",
    "plt.xlabel('Drug Regimen',size=8) # define x label\n",
    "\n",
    "plt.show()\n"
   ]
  },
  {
   "cell_type": "code",
   "execution_count": null,
   "metadata": {},
   "outputs": [],
   "source": [
    "# Generate a bar plot showing the total number of timepoints for all mice tested for each drug regimen using pyplot.\n",
    "micetotal = intervalstep.sort_values(ascending=False)\n",
    "plt.bar(micetotal.index, micetotal.values)\n",
    "plt.ylabel('Number of Timepoints', size=8) # define y label\n",
    "plt.xlabel('Drug Regimen',size=8) # define x label\n",
    "plt.xticks(rotation='vertical') # this is to rotate the x values\n",
    "plt.show\n"
   ]
  },
  {
   "cell_type": "code",
   "execution_count": null,
   "metadata": {},
   "outputs": [],
   "source": [
    "# Generate a pie plot showing the distribution of female versus male mice using Pandas\n",
    "\n",
    "Gender = clnd_df.groupby(['Sex'])['Sex'].count()\n",
    "Gender.plot.pie(startangle=185,autopct='%1.1f%%', figsize=(8, 8))\n",
    "\n"
   ]
  },
  {
   "cell_type": "code",
   "execution_count": null,
   "metadata": {},
   "outputs": [],
   "source": [
    "# Generate a pie plot showing the distribution of female versus male mice using pyplot\n",
    "\n",
    "malecount = (clnd_df['Sex'].value_counts()['Male'])\n",
    "femalecount = (clnd_df['Sex'].value_counts()['Female'])\n",
    "gendercount = [malecount,femalecount]\n",
    "#print (gendercount)\n",
    "gendernames = ['Male','Female']\n",
    "explode = (0,0)\n",
    "colors = ['Blue', 'Red']\n",
    "\n",
    "\n",
    "plt.pie(gendercount, explode=explode, labels=gendernames, colors=colors,\n",
    "        autopct=\"%1.1f%%\", shadow=True, startangle=0)\n",
    "\n",
    "\n"
   ]
  },
  {
   "cell_type": "markdown",
   "metadata": {},
   "source": [
    "## Quartiles, Outliers and Boxplots"
   ]
  },
  {
   "cell_type": "code",
   "execution_count": null,
   "metadata": {},
   "outputs": [],
   "source": [
    "# Calculate the final tumor volume of each mouse across four of the treatment regimens:  \n",
    "# Capomulin, Ramicane, Infubinol, and Ceftamin\n",
    "newclnd_df = clnd_df.copy()\n",
    "\n",
    "# Start by getting the last (greatest) timepoint for each mouse\n",
    "finltme = newclnd_df.groupby(['Mouse ID'])['Timepoint'].max()\n",
    "finltme_df = pd.DataFrame(finltme)\n",
    "#print(finltme_df)\n",
    "\n",
    "# Merge this group df with the original DataFrame to get the tumor volume at the last timepoint\n",
    "\n",
    "newmerged_df = pd.merge(newclnd_df, finltme_df, on=('Mouse ID', 'Timepoint'), how='right')\n",
    "newmerged_df\n",
    "\n",
    "\n"
   ]
  },
  {
   "cell_type": "code",
   "execution_count": null,
   "metadata": {},
   "outputs": [],
   "source": [
    "# Put treatments into a list for for loop (and later for plot labels)\n",
    "\n",
    "treatlist = [\"Capomulin\", \"Ramicane\", \"Infubinol\", \"Ceftamin\"]\n",
    "\n",
    "# Create empty list to fill with tumor vol data (for plotting)\n",
    "\n",
    "cap_vol = []\n",
    "ram_vol = []\n",
    "inf_vol = []\n",
    "cef_vol = []\n",
    "\n",
    "# Calculate the IQR and quantitatively determine if there are any potential outliers. \n",
    "\n",
    "    \n",
    "    # Locate the rows which contain mice on each drug and get the tumor volumes\n",
    "\n",
    "for index, row in newmerged_df.iterrows():\n",
    "    if row[\"Drug Regimen\"] == \"Capomulin\":\n",
    "        cap_vol.append(row['Tumor Volume (mm3)'])\n",
    "    if row[\"Drug Regimen\"] == \"Ramicane\":\n",
    "        ram_vol.append(row['Tumor Volume (mm3)'])\n",
    "    if row[\"Drug Regimen\"] == \"Infubinol\":\n",
    "        inf_vol.append(row['Tumor Volume (mm3)'])\n",
    "    if row[\"Drug Regimen\"] == \"Ceftamin\":\n",
    "        cef_vol.append(row['Tumor Volume (mm3)'])\n",
    "        \n",
    "        \n",
    "    # add subset \n",
    "regimen_df = pd.DataFrame({'Capomulin':cap_vol,\"Ramicane\":ram_vol,\"Infubinol\":inf_vol,\"Ceftamin\":cef_vol})\n",
    "    \n",
    "  # Determine outliers using upper and lower bounds\n",
    "searchdata1 = regimen_df['Capomulin']\n",
    " \n",
    "quartiles = searchdata1.quantile([.25,.5,.75])\n",
    "lowerq = quartiles[0.25]\n",
    "upperq = quartiles[0.75]\n",
    "iqr = upperq-lowerq\n",
    "\n",
    "print(f\"The lower quartile of Capomulin is: {lowerq}\")\n",
    "print(f\"The upper quartile of Capomulin is: {upperq}\")\n",
    "print(f\"The interquartile range of Capomulin is: {iqr}\")\n",
    "print(f\"The median of Capomulin is: {quartiles[0.5]} \")\n",
    "\n",
    "lower_bound = lowerq - (1.5*iqr)\n",
    "upper_bound = upperq + (1.5*iqr)\n",
    "print(f\"Values below {lower_bound} could be outliers.\")\n",
    "print(f\"Values above {upper_bound} could be outliers.\")    \n",
    "print('-------------------------------------------------')\n",
    "\n",
    "searchdata2 = regimen_df['Ramicane']\n",
    "    \n",
    "quartiles = searchdata2.quantile([.25,.5,.75])\n",
    "lowerq = quartiles[0.25]\n",
    "upperq = quartiles[0.75]\n",
    "iqr = upperq-lowerq\n",
    "\n",
    "print(f\"The lower quartile of Ramicane is: {lowerq}\")\n",
    "print(f\"The upper quartile of Ramicane is: {upperq}\")\n",
    "print(f\"The interquartile range of Ramicane is: {iqr}\")\n",
    "print(f\"The median of Ramicane is: {quartiles[0.5]} \")\n",
    "\n",
    "lower_bound = lowerq - (1.5*iqr)\n",
    "upper_bound = upperq + (1.5*iqr)\n",
    "print(f\"Values below {lower_bound} could be outliers.\")\n",
    "print(f\"Values above {upper_bound} could be outliers.\")        \n",
    "print('-------------------------------------------------')    \n",
    "   \n",
    "searchdata3 = regimen_df['Infubinol']\n",
    "    \n",
    "    \n",
    "quartiles = searchdata3.quantile([.25,.5,.75])\n",
    "lowerq = quartiles[0.25]\n",
    "upperq = quartiles[0.75]\n",
    "iqr = upperq-lowerq\n",
    "\n",
    "print(f\"The lower quartile of Infubinol is: {lowerq}\")\n",
    "print(f\"The upper quartile of Infubinol is: {upperq}\")\n",
    "print(f\"The interquartile range of Infubinol is: {iqr}\")\n",
    "print(f\"The median of Infubinol is: {quartiles[0.5]} \")\n",
    "\n",
    "lower_bound = lowerq - (1.5*iqr)\n",
    "upper_bound = upperq + (1.5*iqr)\n",
    "print(f\"Values below {lower_bound} could be outliers.\")\n",
    "print(f\"Values above {upper_bound} could be outliers.\")  \n",
    "print('-------------------------------------------------')\n",
    "    \n",
    "searchdata4 = regimen_df['Ceftamin']\n",
    "    \n",
    "    \n",
    "quartiles = searchdata4.quantile([.25,.5,.75])\n",
    "lowerq = quartiles[0.25]\n",
    "upperq = quartiles[0.75]\n",
    "iqr = upperq-lowerq\n",
    "\n",
    "print(f\"The lower quartile of Ceftamin is: {lowerq}\")\n",
    "print(f\"The upper quartile of Ceftamin is: {upperq}\")\n",
    "print(f\"The interquartile range of Ceftamin is: {iqr}\")\n",
    "print(f\"The median of Ceftamin is: {quartiles[0.5]} \")\n",
    "\n",
    "lower_bound = lowerq - (1.5*iqr)\n",
    "upper_bound = upperq + (1.5*iqr)\n",
    "print(f\"Values below {lower_bound} could be outliers.\")\n",
    "print(f\"Values above {upper_bound} could be outliers.\")  \n",
    "print('-------------------------------------------------')\n",
    "   \n"
   ]
  },
  {
   "cell_type": "code",
   "execution_count": null,
   "metadata": {},
   "outputs": [],
   "source": [
    "# Generate a box plot that shows the distrubution of the tumor volume for each treatment group.\n",
    "\n",
    "tumvols = [cap_vol,ram_vol,inf_vol,cef_vol]\n",
    "boxlabels = ['Capomulin','Ramicane','Infubinol','Ceftamin']\n",
    "fig1, ax1 = plt.subplots()\n",
    "ax1.set_title('Tumor Volumes For Drug Regimen')\n",
    "ax1.set_ylabel('Tumor Volume (mm3)')\n",
    "#ax1.set_xlabel(boxlabels)\n",
    "\n",
    "ax1.boxplot(tumvols)\n",
    "\n",
    "plt.xticks([1,2,3,4],boxlabels)\n",
    "\n",
    "plt.show()"
   ]
  },
  {
   "cell_type": "markdown",
   "metadata": {},
   "source": [
    "## Line and Scatter Plots"
   ]
  },
  {
   "cell_type": "code",
   "execution_count": null,
   "metadata": {},
   "outputs": [],
   "source": [
    "# Generate a line plot of tumor volume vs. time point for a mouse treated with Capomulin\n",
    "l_plot_df = clnd_df.loc[clnd_df[\"Mouse ID\"] == \"l509\",:]\n",
    "\n",
    "time_vals = l_plot_df['Timepoint']\n",
    "vol_vals = l_plot_df['Tumor Volume (mm3)']\n",
    "plt.xlabel('Timepoint (days)')\n",
    "plt.ylabel('Tumor Volume (mm3)')\n",
    "plt.title('Capomulin treatmeant of mouse l509')\n",
    "\n",
    "plt.plot(time_vals,vol_vals)\n",
    "plt.show()"
   ]
  },
  {
   "cell_type": "code",
   "execution_count": null,
   "metadata": {},
   "outputs": [],
   "source": [
    "# Generate a scatter plot of average tumor volume vs. mouse weight for the Capomulin regimen\n",
    "\n",
    "mousewt_df = clnd_df.loc[clnd_df[\"Drug Regimen\"] == \"Capomulin\",:]\n",
    "meantumvol = mousewt_df.groupby(['Mouse ID']).mean()\n",
    "#meantumvol\n",
    "\n",
    "meantumvol.rename(columns={'Tumor Volume (mm3)':'Tumor_Volume_(mm3)'}, inplace=True)\n",
    "plt.xlabel('Weight (g)')\n",
    "plt.ylabel('Average Tumor Volume (mm3)')\n",
    "\n",
    "plt.scatter(meantumvol['Weight (g)'],meantumvol['Tumor_Volume_(mm3)'])\n"
   ]
  },
  {
   "cell_type": "markdown",
   "metadata": {},
   "source": [
    "## Correlation and Regression"
   ]
  },
  {
   "cell_type": "code",
   "execution_count": null,
   "metadata": {},
   "outputs": [],
   "source": [
    "# Calculate the correlation coefficient and linear regression model \n",
    "# for mouse weight and average tumor volume for the Capomulin regimen\n",
    "\n",
    "corr=round(st.pearsonr(meantumvol['Weight (g)'],meantumvol['Tumor_Volume_(mm3)'])[0],2)\n",
    "print(f\"The correlation between mouse weight and average tumor volume is {corr}\")           \n",
    "\n",
    "x_values = meantumvol['Weight (g)']\n",
    "y_values = meantumvol['Tumor_Volume_(mm3)']\n",
    "\n",
    "regmodel=st.linregress(meantumvol['Weight (g)'],meantumvol['Tumor_Volume_(mm3)'])\n",
    "regmodel\n",
    "\n",
    "slope = regmodel[0]\n",
    "intercept = regmodel[1]\n",
    "rvalue = regmodel[2]\n",
    "pvalue = regmodel[3]\n",
    "stderr = regmodel[4]\n",
    "\n",
    "#Print Summary Table\n",
    "print()\n",
    "print('Linear Regression Table')\n",
    "print('-------------------------------')\n",
    "print('Slope :',slope)\n",
    "print('Intercept :',intercept)\n",
    "print('r-value :',rvalue)\n",
    "print('p-value :',pvalue)\n",
    "print('stderr :',stderr)\n",
    "print('-------------------------------')\n",
    "\n",
    "                                         "
   ]
  },
  {
   "cell_type": "code",
   "execution_count": null,
   "metadata": {},
   "outputs": [],
   "source": [
    "line = slope*(meantumvol['Weight (g)'])+intercept\n",
    "plt.scatter(meantumvol['Weight (g)'],meantumvol['Tumor_Volume_(mm3)'])\n",
    "plt.plot(meantumvol['Weight (g)'], line, 'r', label='y={:.2f}x+{:.2f}'.format(slope,intercept))\n",
    "plt.xlabel('Weight(g)')\n",
    "plt.ylabel('Average Tumore Volume (mm3)')\n",
    "plt.legend()\n",
    "plt.show()\n"
   ]
  }
 ],
 "metadata": {
  "anaconda-cloud": {},
  "kernelspec": {
   "display_name": "Python 3 (ipykernel)",
   "language": "python",
   "name": "python3"
  },
  "language_info": {
   "codemirror_mode": {
    "name": "ipython",
    "version": 3
   },
   "file_extension": ".py",
   "mimetype": "text/x-python",
   "name": "python",
   "nbconvert_exporter": "python",
   "pygments_lexer": "ipython3",
   "version": "3.9.12"
  }
 },
 "nbformat": 4,
 "nbformat_minor": 4
}
